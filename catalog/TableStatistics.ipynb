{
 "cells": [
  {
   "cell_type": "code",
   "execution_count": 1,
   "metadata": {},
   "outputs": [],
   "source": [
    "from astropy.table import Table\n",
    "import pandas as pd"
   ]
  },
  {
   "cell_type": "code",
   "execution_count": 6,
   "metadata": {},
   "outputs": [],
   "source": [
    "sc = Table.read('./fits/straycats_v2.fits')\n",
    "for key in sc.columns:\n",
    "    if sc[key].dtype.str.startswith('|S'):\n",
    "        sc[key] = sc[key].astype('str')\n",
    "        \n",
    "        \n",
    "nm = Table.read('./fits/numaster.fits')\n",
    "numaster = nm.to_pandas()\n",
    "numaster['OBSID'] = pd.to_numeric(numaster['OBSID'])\n",
    "\n",
    "straycats = sc.to_pandas()"
   ]
  },
  {
   "cell_type": "code",
   "execution_count": 7,
   "metadata": {},
   "outputs": [
    {
     "name": "stdout",
     "output_type": "stream",
     "text": [
      "489\n",
      "862\n"
     ]
    }
   ],
   "source": [
    "print(len(straycats['SEQID'].unique()))\n",
    "print(len(straycats['SEQID']))"
   ]
  },
  {
   "cell_type": "code",
   "execution_count": 8,
   "metadata": {},
   "outputs": [
    {
     "data": {
      "text/plain": [
       "array(['??', 'HMXB-NS', 'AGN', 'LMXB-NS', 'NS', 'PWNe', 'LMXB-BH',\n",
       "       'Cluster', 'BHC', 'Eclipsing pulsar', 'HMXB-BH', 'Radio galaxy',\n",
       "       'SNR'], dtype=object)"
      ]
     },
     "execution_count": 8,
     "metadata": {},
     "output_type": "execute_result"
    }
   ],
   "source": [
    "straycats['SL Type'].unique()"
   ]
  },
  {
   "cell_type": "code",
   "execution_count": 9,
   "metadata": {},
   "outputs": [],
   "source": [
    "types = straycats.groupby('SL Type')"
   ]
  },
  {
   "cell_type": "code",
   "execution_count": 10,
   "metadata": {},
   "outputs": [
    {
     "name": "stdout",
     "output_type": "stream",
     "text": [
      "?? 217\n",
      "AGN 20\n",
      "BHC 41\n",
      "Cluster 2\n",
      "Eclipsing pulsar 42\n",
      "HMXB-BH 34\n",
      "HMXB-NS 68\n",
      "LMXB-BH 19\n",
      "LMXB-NS 326\n",
      "NS 18\n",
      "PWNe 68\n",
      "Radio galaxy 2\n",
      "SNR 5\n"
     ]
    }
   ],
   "source": [
    "tot = 0.\n",
    "for group in types.groups:\n",
    "    print(group, len(types.groups[group]))\n",
    "    tot += len(types.groups[group])\n"
   ]
  },
  {
   "cell_type": "code",
   "execution_count": 11,
   "metadata": {},
   "outputs": [],
   "source": [
    "import pandas as pd"
   ]
  },
  {
   "cell_type": "code",
   "execution_count": 12,
   "metadata": {},
   "outputs": [],
   "source": [
    "df = pd.read_csv('./csv/target_info.csv')"
   ]
  },
  {
   "cell_type": "code",
   "execution_count": 13,
   "metadata": {},
   "outputs": [
    {
     "name": "stdout",
     "output_type": "stream",
     "text": [
      "6 AGN\n",
      "9 BHC\n",
      "1 Cluster\n",
      "1 Eclipsing pulsar\n",
      "4 HMXB-BH\n",
      "16 HMXB-NS\n",
      "1 LMXB\n",
      "4 LMXB-BH\n",
      "33 LMXB-NS\n",
      "2 NS\n",
      "3 PWNe\n",
      "1 Radio galaxy\n",
      "1 SNR\n",
      "82.0\n"
     ]
    }
   ],
   "source": [
    "types = df.groupby('Type')\n",
    "tot = 0.\n",
    "\n",
    "for group in types.groups:\n",
    "    print(len(types.groups[group]), group)\n",
    "    tot += len(types.groups[group])\n",
    "\n",
    "print(tot)"
   ]
  },
  {
   "cell_type": "code",
   "execution_count": 14,
   "metadata": {},
   "outputs": [
    {
     "data": {
      "text/html": [
       "<div>\n",
       "<style scoped>\n",
       "    .dataframe tbody tr th:only-of-type {\n",
       "        vertical-align: middle;\n",
       "    }\n",
       "\n",
       "    .dataframe tbody tr th {\n",
       "        vertical-align: top;\n",
       "    }\n",
       "\n",
       "    .dataframe thead th {\n",
       "        text-align: right;\n",
       "    }\n",
       "</style>\n",
       "<table border=\"1\" class=\"dataframe\">\n",
       "  <thead>\n",
       "    <tr style=\"text-align: right;\">\n",
       "      <th></th>\n",
       "      <th>STRAYID</th>\n",
       "      <th>Classification</th>\n",
       "      <th>SEQID</th>\n",
       "      <th>Module</th>\n",
       "      <th>Exposure</th>\n",
       "      <th>Multi</th>\n",
       "      <th>Primary</th>\n",
       "      <th>TIME</th>\n",
       "      <th>END_TIME</th>\n",
       "      <th>RA_PRIMARY</th>\n",
       "      <th>DEC_PRIMARY</th>\n",
       "      <th>SL Source</th>\n",
       "      <th>SL Type</th>\n",
       "      <th>SIMBAD_ID</th>\n",
       "      <th>RA_SL</th>\n",
       "      <th>DEC_SL</th>\n",
       "    </tr>\n",
       "  </thead>\n",
       "  <tbody>\n",
       "  </tbody>\n",
       "</table>\n",
       "</div>"
      ],
      "text/plain": [
       "Empty DataFrame\n",
       "Columns: [STRAYID, Classification, SEQID, Module, Exposure, Multi, Primary, TIME, END_TIME, RA_PRIMARY, DEC_PRIMARY, SL Source, SL Type, SIMBAD_ID, RA_SL, DEC_SL]\n",
       "Index: []"
      ]
     },
     "execution_count": 14,
     "metadata": {},
     "output_type": "execute_result"
    }
   ],
   "source": [
    "straycats[straycats['TIME'] < 0]"
   ]
  },
  {
   "cell_type": "code",
   "execution_count": 15,
   "metadata": {},
   "outputs": [
    {
     "data": {
      "text/plain": [
       "57519.85148361111"
      ]
     },
     "execution_count": 15,
     "metadata": {},
     "output_type": "execute_result"
    }
   ],
   "source": [
    "numaster.loc[numaster['OBSID'] == 30201029002, 'TIME'].values[0]"
   ]
  },
  {
   "cell_type": "code",
   "execution_count": 16,
   "metadata": {},
   "outputs": [
    {
     "data": {
      "text/plain": [
       "109    57519.851484\n",
       "Name: TIME, dtype: float64"
      ]
     },
     "execution_count": 16,
     "metadata": {},
     "output_type": "execute_result"
    }
   ],
   "source": [
    "straycats.loc[(straycats['SEQID'] == 30201029002)&(straycats['Module'] == 'A'), 'TIME']"
   ]
  },
  {
   "cell_type": "code",
   "execution_count": 13,
   "metadata": {},
   "outputs": [
    {
     "data": {
      "text/html": [
       "<div>\n",
       "<style scoped>\n",
       "    .dataframe tbody tr th:only-of-type {\n",
       "        vertical-align: middle;\n",
       "    }\n",
       "\n",
       "    .dataframe tbody tr th {\n",
       "        vertical-align: top;\n",
       "    }\n",
       "\n",
       "    .dataframe thead th {\n",
       "        text-align: right;\n",
       "    }\n",
       "</style>\n",
       "<table border=\"1\" class=\"dataframe\">\n",
       "  <thead>\n",
       "    <tr style=\"text-align: right;\">\n",
       "      <th></th>\n",
       "      <th>STRAYID</th>\n",
       "      <th>Classification</th>\n",
       "      <th>SEQID</th>\n",
       "      <th>Module</th>\n",
       "      <th>Exposure</th>\n",
       "      <th>Multi</th>\n",
       "      <th>Primary</th>\n",
       "      <th>TIME</th>\n",
       "      <th>END_TIME</th>\n",
       "      <th>RA_PRIMARY</th>\n",
       "      <th>DEC_PRIMARY</th>\n",
       "      <th>SL Source</th>\n",
       "      <th>SL Type</th>\n",
       "      <th>SIMBAD_ID</th>\n",
       "      <th>RA_SL</th>\n",
       "      <th>DEC_SL</th>\n",
       "    </tr>\n",
       "  </thead>\n",
       "  <tbody>\n",
       "    <tr>\n",
       "      <th>704</th>\n",
       "      <td>StrayCatsI_704</td>\n",
       "      <td>SL</td>\n",
       "      <td>30002041016</td>\n",
       "      <td>A</td>\n",
       "      <td>29526.0401</td>\n",
       "      <td>Y</td>\n",
       "      <td>SS433</td>\n",
       "      <td>57104.740361</td>\n",
       "      <td>57105.37925</td>\n",
       "      <td>287.9816</td>\n",
       "      <td>5.0093</td>\n",
       "      <td>4U 1909+07</td>\n",
       "      <td>HMXB-NS</td>\n",
       "      <td>4U 1909+07</td>\n",
       "      <td>287.700892</td>\n",
       "      <td>7.597699</td>\n",
       "    </tr>\n",
       "    <tr>\n",
       "      <th>705</th>\n",
       "      <td>StrayCatsI_705</td>\n",
       "      <td>SL</td>\n",
       "      <td>30002041016</td>\n",
       "      <td>A</td>\n",
       "      <td>29526.0401</td>\n",
       "      <td>Y</td>\n",
       "      <td>SS433</td>\n",
       "      <td>57104.740361</td>\n",
       "      <td>57105.37925</td>\n",
       "      <td>287.9816</td>\n",
       "      <td>5.0093</td>\n",
       "      <td>X1908+075</td>\n",
       "      <td>HMXB-NS</td>\n",
       "      <td>1E 1908.4+0730</td>\n",
       "      <td>287.700892</td>\n",
       "      <td>7.597699</td>\n",
       "    </tr>\n",
       "  </tbody>\n",
       "</table>\n",
       "</div>"
      ],
      "text/plain": [
       "            STRAYID Classification        SEQID Module    Exposure Multi  \\\n",
       "704  StrayCatsI_704             SL  30002041016      A  29526.0401     Y   \n",
       "705  StrayCatsI_705             SL  30002041016      A  29526.0401     Y   \n",
       "\n",
       "    Primary          TIME     END_TIME  RA_PRIMARY  DEC_PRIMARY   SL Source  \\\n",
       "704   SS433  57104.740361  57105.37925    287.9816       5.0093  4U 1909+07   \n",
       "705   SS433  57104.740361  57105.37925    287.9816       5.0093   X1908+075   \n",
       "\n",
       "     SL Type       SIMBAD_ID       RA_SL    DEC_SL  \n",
       "704  HMXB-NS      4U 1909+07  287.700892  7.597699  \n",
       "705  HMXB-NS  1E 1908.4+0730  287.700892  7.597699  "
      ]
     },
     "execution_count": 13,
     "metadata": {},
     "output_type": "execute_result"
    }
   ],
   "source": [
    "straycats.loc[(straycats['SEQID'] == 30002041016)]"
   ]
  },
  {
   "cell_type": "code",
   "execution_count": 14,
   "metadata": {},
   "outputs": [
    {
     "data": {
      "text/plain": [
       "STRAYID           182\n",
       "Classification    182\n",
       "SEQID             182\n",
       "Module            182\n",
       "Exposure          182\n",
       "Multi             182\n",
       "Primary           182\n",
       "TIME              182\n",
       "END_TIME          182\n",
       "RA_PRIMARY        182\n",
       "DEC_PRIMARY       182\n",
       "SL Source         182\n",
       "SL Type           182\n",
       "SIMBAD_ID         182\n",
       "RA_SL             182\n",
       "DEC_SL            182\n",
       "dtype: int64"
      ]
     },
     "execution_count": 14,
     "metadata": {},
     "output_type": "execute_result"
    }
   ],
   "source": [
    "straycats.loc[straycats['SL Type'] == '??'].count()\n"
   ]
  },
  {
   "cell_type": "code",
   "execution_count": 17,
   "metadata": {},
   "outputs": [
    {
     "data": {
      "text/plain": [
       "STRAYID           862\n",
       "Classification    862\n",
       "SEQID             862\n",
       "Module            862\n",
       "Exposure          862\n",
       "Multi             862\n",
       "Primary           862\n",
       "TIME              862\n",
       "END_TIME          862\n",
       "RA_PRIMARY        862\n",
       "DEC_PRIMARY       862\n",
       "SL Source         862\n",
       "SL Type           862\n",
       "SIMBAD_ID         862\n",
       "RA_SL             862\n",
       "DEC_SL            862\n",
       "dtype: int64"
      ]
     },
     "execution_count": 17,
     "metadata": {},
     "output_type": "execute_result"
    }
   ],
   "source": [
    "straycats.count()"
   ]
  },
  {
   "cell_type": "code",
   "execution_count": 18,
   "metadata": {},
   "outputs": [
    {
     "data": {
      "text/plain": [
       "STRAYID           60\n",
       "Classification    60\n",
       "SEQID             60\n",
       "Module            60\n",
       "Exposure          60\n",
       "Multi             60\n",
       "Primary           60\n",
       "TIME              60\n",
       "END_TIME          60\n",
       "RA_PRIMARY        60\n",
       "DEC_PRIMARY       60\n",
       "SL Source         60\n",
       "SL Type           60\n",
       "SIMBAD_ID         60\n",
       "RA_SL             60\n",
       "DEC_SL            60\n",
       "dtype: int64"
      ]
     },
     "execution_count": 18,
     "metadata": {},
     "output_type": "execute_result"
    }
   ],
   "source": [
    "straycats.loc[straycats['Classification'] == 'GR'].count()\n",
    "\n"
   ]
  },
  {
   "cell_type": "code",
   "execution_count": 19,
   "metadata": {},
   "outputs": [
    {
     "data": {
      "text/plain": [
       "23"
      ]
     },
     "execution_count": 19,
     "metadata": {},
     "output_type": "execute_result"
    }
   ],
   "source": [
    "len(straycats.loc[straycats['Classification'] == 'Unkn', 'SEQID'].unique())"
   ]
  },
  {
   "cell_type": "code",
   "execution_count": 20,
   "metadata": {},
   "outputs": [
    {
     "data": {
      "text/html": [
       "<div>\n",
       "<style scoped>\n",
       "    .dataframe tbody tr th:only-of-type {\n",
       "        vertical-align: middle;\n",
       "    }\n",
       "\n",
       "    .dataframe tbody tr th {\n",
       "        vertical-align: top;\n",
       "    }\n",
       "\n",
       "    .dataframe thead th {\n",
       "        text-align: right;\n",
       "    }\n",
       "</style>\n",
       "<table border=\"1\" class=\"dataframe\">\n",
       "  <thead>\n",
       "    <tr style=\"text-align: right;\">\n",
       "      <th></th>\n",
       "      <th>STRAYID</th>\n",
       "      <th>Classification</th>\n",
       "      <th>SEQID</th>\n",
       "      <th>Module</th>\n",
       "      <th>Exposure</th>\n",
       "      <th>Multi</th>\n",
       "      <th>Primary</th>\n",
       "      <th>TIME</th>\n",
       "      <th>END_TIME</th>\n",
       "      <th>RA_PRIMARY</th>\n",
       "      <th>DEC_PRIMARY</th>\n",
       "      <th>SL Source</th>\n",
       "      <th>SL Type</th>\n",
       "      <th>SIMBAD_ID</th>\n",
       "      <th>RA_SL</th>\n",
       "      <th>DEC_SL</th>\n",
       "    </tr>\n",
       "  </thead>\n",
       "  <tbody>\n",
       "    <tr>\n",
       "      <th>379</th>\n",
       "      <td>StrayCatsI_379</td>\n",
       "      <td>Duplicate</td>\n",
       "      <td>30301024002</td>\n",
       "      <td>A</td>\n",
       "      <td>37106.5707</td>\n",
       "      <td>Y</td>\n",
       "      <td>PNE_G343</td>\n",
       "      <td>57935.646634</td>\n",
       "      <td>57936.441773</td>\n",
       "      <td>255.3785</td>\n",
       "      <td>-43.1653</td>\n",
       "      <td>??</td>\n",
       "      <td>??</td>\n",
       "      <td>NA</td>\n",
       "      <td>-999.0</td>\n",
       "      <td>-999.0</td>\n",
       "    </tr>\n",
       "    <tr>\n",
       "      <th>594</th>\n",
       "      <td>StrayCatsI_594</td>\n",
       "      <td>Duplicate</td>\n",
       "      <td>30102038009</td>\n",
       "      <td>A</td>\n",
       "      <td>29891.8691</td>\n",
       "      <td>Y</td>\n",
       "      <td>SGR_1806m20</td>\n",
       "      <td>57490.552873</td>\n",
       "      <td>57491.212595</td>\n",
       "      <td>272.1872</td>\n",
       "      <td>-20.3861</td>\n",
       "      <td>??</td>\n",
       "      <td>??</td>\n",
       "      <td>NA</td>\n",
       "      <td>-999.0</td>\n",
       "      <td>-999.0</td>\n",
       "    </tr>\n",
       "  </tbody>\n",
       "</table>\n",
       "</div>"
      ],
      "text/plain": [
       "            STRAYID Classification        SEQID Module    Exposure Multi  \\\n",
       "379  StrayCatsI_379      Duplicate  30301024002      A  37106.5707     Y   \n",
       "594  StrayCatsI_594      Duplicate  30102038009      A  29891.8691     Y   \n",
       "\n",
       "         Primary          TIME      END_TIME  RA_PRIMARY  DEC_PRIMARY  \\\n",
       "379     PNE_G343  57935.646634  57936.441773    255.3785     -43.1653   \n",
       "594  SGR_1806m20  57490.552873  57491.212595    272.1872     -20.3861   \n",
       "\n",
       "    SL Source SL Type SIMBAD_ID  RA_SL  DEC_SL  \n",
       "379        ??      ??        NA -999.0  -999.0  \n",
       "594        ??      ??        NA -999.0  -999.0  "
      ]
     },
     "execution_count": 20,
     "metadata": {},
     "output_type": "execute_result"
    }
   ],
   "source": [
    "straycats.loc[straycats['Classification'] == 'Duplicate']"
   ]
  },
  {
   "cell_type": "code",
   "execution_count": null,
   "metadata": {},
   "outputs": [],
   "source": []
  }
 ],
 "metadata": {
  "kernelspec": {
   "display_name": "Python 3 (ipykernel)",
   "language": "python",
   "name": "python3"
  },
  "language_info": {
   "codemirror_mode": {
    "name": "ipython",
    "version": 3
   },
   "file_extension": ".py",
   "mimetype": "text/x-python",
   "name": "python",
   "nbconvert_exporter": "python",
   "pygments_lexer": "ipython3",
   "version": "3.9.12"
  }
 },
 "nbformat": 4,
 "nbformat_minor": 4
}
