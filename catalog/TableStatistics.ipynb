{
 "cells": [
  {
   "cell_type": "code",
   "execution_count": 4,
   "metadata": {},
   "outputs": [],
   "source": [
    "from astropy.table import Table"
   ]
  },
  {
   "cell_type": "code",
   "execution_count": 5,
   "metadata": {},
   "outputs": [],
   "source": [
    "sc = Table.read('./fits/straycats.fits')"
   ]
  },
  {
   "cell_type": "code",
   "execution_count": 6,
   "metadata": {},
   "outputs": [],
   "source": [
    "straycats = sc.to_pandas()"
   ]
  },
  {
   "cell_type": "code",
   "execution_count": 9,
   "metadata": {},
   "outputs": [
    {
     "data": {
      "text/plain": [
       "419"
      ]
     },
     "execution_count": 9,
     "metadata": {},
     "output_type": "execute_result"
    }
   ],
   "source": [
    "len(straycats['SEQID'].unique())"
   ]
  },
  {
   "cell_type": "code",
   "execution_count": 10,
   "metadata": {},
   "outputs": [
    {
     "data": {
      "text/plain": [
       "array([b'LMXB-NS', b'AGN', b'HMXB-NS', b'Eclipsing pulsar', b'BHC',\n",
       "       b'HMXB-BH', b'SNR', b'??', b'PWNe', b'LMXB-BH', b'Radio galaxy',\n",
       "       b'NS', b'LMXB', b'N/A'], dtype=object)"
      ]
     },
     "execution_count": 10,
     "metadata": {},
     "output_type": "execute_result"
    }
   ],
   "source": [
    "straycats['Target Type'].unique()"
   ]
  },
  {
   "cell_type": "code",
   "execution_count": 16,
   "metadata": {},
   "outputs": [],
   "source": [
    "types = straycats.groupby('Target Type')"
   ]
  },
  {
   "cell_type": "code",
   "execution_count": 25,
   "metadata": {},
   "outputs": [
    {
     "name": "stdout",
     "output_type": "stream",
     "text": [
      "b'??'\n",
      "208\n",
      "b'AGN'\n",
      "18\n",
      "b'BHC'\n",
      "41\n",
      "b'Eclipsing pulsar'\n",
      "42\n",
      "b'HMXB-BH'\n",
      "33\n",
      "b'HMXB-NS'\n",
      "48\n",
      "b'LMXB'\n",
      "1\n",
      "b'LMXB-BH'\n",
      "13\n",
      "b'LMXB-NS'\n",
      "242\n",
      "b'N/A'\n",
      "1\n",
      "b'NS'\n",
      "13\n",
      "b'PWNe'\n",
      "61\n",
      "b'Radio galaxy'\n",
      "2\n",
      "b'SNR'\n",
      "4\n"
     ]
    }
   ],
   "source": [
    "for group in types.groups:\n",
    "    print(group)\n",
    "    print(len(types.groups[group]))"
   ]
  },
  {
   "cell_type": "code",
   "execution_count": 26,
   "metadata": {},
   "outputs": [],
   "source": [
    "import pandas as pd"
   ]
  },
  {
   "cell_type": "code",
   "execution_count": 27,
   "metadata": {},
   "outputs": [],
   "source": [
    "df = pd.read_csv('./csv/target_info.csv')"
   ]
  },
  {
   "cell_type": "code",
   "execution_count": 33,
   "metadata": {},
   "outputs": [
    {
     "name": "stdout",
     "output_type": "stream",
     "text": [
      "6 AGN\n",
      "9 BHC\n",
      "1 Eclipsing pulsar\n",
      "4 HMXB-BH\n",
      "13 HMXB-NS\n",
      "1 LMXB\n",
      "3 LMXB-BH\n",
      "28 LMXB-NS\n",
      "2 NS\n",
      "3 PWNe\n",
      "1 Radio galaxy\n",
      "1 SNR\n"
     ]
    }
   ],
   "source": [
    "types = df.groupby('Type')\n",
    "for group in types.groups:\n",
    "    print(len(types.groups[group]), group)"
   ]
  },
  {
   "cell_type": "code",
   "execution_count": null,
   "metadata": {},
   "outputs": [],
   "source": []
  }
 ],
 "metadata": {
  "kernelspec": {
   "display_name": "Python 3",
   "language": "python",
   "name": "python3"
  },
  "language_info": {
   "codemirror_mode": {
    "name": "ipython",
    "version": 3
   },
   "file_extension": ".py",
   "mimetype": "text/x-python",
   "name": "python",
   "nbconvert_exporter": "python",
   "pygments_lexer": "ipython3",
   "version": "3.7.4"
  }
 },
 "nbformat": 4,
 "nbformat_minor": 4
}
