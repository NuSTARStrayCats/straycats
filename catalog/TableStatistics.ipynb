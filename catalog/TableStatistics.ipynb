{
 "cells": [
  {
   "cell_type": "code",
   "execution_count": 2,
   "metadata": {},
   "outputs": [],
   "source": [
    "from astropy.table import Table\n",
    "import pandas as pd"
   ]
  },
  {
   "cell_type": "code",
   "execution_count": 3,
   "metadata": {},
   "outputs": [],
   "source": [
    "sc = Table.read('./fits/straycats.fits')\n",
    "for key in sc.columns:\n",
    "    if sc[key].dtype.str.startswith('|S'):\n",
    "        sc[key] = sc[key].astype('str')\n",
    "        \n",
    "        \n",
    "nm = Table.read('./fits/numaster.fits')\n",
    "numaster = nm.to_pandas()\n",
    "numaster['OBSID'] = pd.to_numeric(numaster['OBSID'])\n",
    "\n",
    "straycats = sc.to_pandas()"
   ]
  },
  {
   "cell_type": "code",
   "execution_count": 4,
   "metadata": {},
   "outputs": [
    {
     "data": {
      "text/plain": [
       "436"
      ]
     },
     "execution_count": 4,
     "metadata": {},
     "output_type": "execute_result"
    }
   ],
   "source": [
    "len(straycats['SEQID'].unique())"
   ]
  },
  {
   "cell_type": "code",
   "execution_count": 5,
   "metadata": {},
   "outputs": [
    {
     "data": {
      "text/plain": [
       "array(['??', 'HMXB-NS', 'AGN', 'LMXB-NS', 'NS', 'PWNe', 'LMXB-BH',\n",
       "       ' Cluster', 'BHC', 'Eclipsing pulsar', 'HMXB-BH', ' LMXB-NS',\n",
       "       'Radio galaxy', 'SNR'], dtype=object)"
      ]
     },
     "execution_count": 5,
     "metadata": {},
     "output_type": "execute_result"
    }
   ],
   "source": [
    "straycats['SL Type'].unique()"
   ]
  },
  {
   "cell_type": "code",
   "execution_count": 6,
   "metadata": {},
   "outputs": [],
   "source": [
    "types = straycats.groupby('SL Type')"
   ]
  },
  {
   "cell_type": "code",
   "execution_count": 7,
   "metadata": {},
   "outputs": [
    {
     "name": "stdout",
     "output_type": "stream",
     "text": [
      " Cluster 1\n",
      " LMXB-NS 1\n",
      "?? 182\n",
      "AGN 18\n",
      "BHC 41\n",
      "Eclipsing pulsar 42\n",
      "HMXB-BH 33\n",
      "HMXB-NS 55\n",
      "LMXB-BH 15\n",
      "LMXB-NS 284\n",
      "NS 17\n",
      "PWNe 61\n",
      "Radio galaxy 2\n",
      "SNR 4\n"
     ]
    }
   ],
   "source": [
    "tot = 0.\n",
    "for group in types.groups:\n",
    "    print(group, len(types.groups[group]))\n",
    "    tot += len(types.groups[group])\n"
   ]
  },
  {
   "cell_type": "code",
   "execution_count": 8,
   "metadata": {},
   "outputs": [],
   "source": [
    "import pandas as pd"
   ]
  },
  {
   "cell_type": "code",
   "execution_count": 9,
   "metadata": {},
   "outputs": [],
   "source": [
    "df = pd.read_csv('./csv/target_info.csv')"
   ]
  },
  {
   "cell_type": "code",
   "execution_count": 10,
   "metadata": {},
   "outputs": [
    {
     "name": "stdout",
     "output_type": "stream",
     "text": [
      "1  Cluster\n",
      "1  LMXB-NS\n",
      "6 AGN\n",
      "9 BHC\n",
      "1 Eclipsing pulsar\n",
      "4 HMXB-BH\n",
      "15 HMXB-NS\n",
      "1 LMXB\n",
      "3 LMXB-BH\n",
      "31 LMXB-NS\n",
      "2 NS\n",
      "3 PWNe\n",
      "1 Radio galaxy\n",
      "1 SNR\n",
      "79.0\n"
     ]
    }
   ],
   "source": [
    "types = df.groupby('Type')\n",
    "tot = 0.\n",
    "\n",
    "for group in types.groups:\n",
    "    print(len(types.groups[group]), group)\n",
    "    tot += len(types.groups[group])\n",
    "\n",
    "print(tot)"
   ]
  },
  {
   "cell_type": "code",
   "execution_count": 28,
   "metadata": {},
   "outputs": [
    {
     "data": {
      "text/html": [
       "<div>\n",
       "<style scoped>\n",
       "    .dataframe tbody tr th:only-of-type {\n",
       "        vertical-align: middle;\n",
       "    }\n",
       "\n",
       "    .dataframe tbody tr th {\n",
       "        vertical-align: top;\n",
       "    }\n",
       "\n",
       "    .dataframe thead th {\n",
       "        text-align: right;\n",
       "    }\n",
       "</style>\n",
       "<table border=\"1\" class=\"dataframe\">\n",
       "  <thead>\n",
       "    <tr style=\"text-align: right;\">\n",
       "      <th></th>\n",
       "      <th>STRAYID</th>\n",
       "      <th>Classification</th>\n",
       "      <th>SEQID</th>\n",
       "      <th>Module</th>\n",
       "      <th>Exposure</th>\n",
       "      <th>Multi</th>\n",
       "      <th>Primary</th>\n",
       "      <th>TIME</th>\n",
       "      <th>END_TIME</th>\n",
       "      <th>RA_PRIMARY</th>\n",
       "      <th>DEC_PRIMARY</th>\n",
       "      <th>SL Source</th>\n",
       "      <th>SL Type</th>\n",
       "      <th>SIMBAD_ID</th>\n",
       "      <th>RA_SL</th>\n",
       "      <th>DEC_SL</th>\n",
       "    </tr>\n",
       "  </thead>\n",
       "  <tbody>\n",
       "    <tr>\n",
       "      <th>704</th>\n",
       "      <td>StrayCatsI_704</td>\n",
       "      <td>SL</td>\n",
       "      <td>30002041016</td>\n",
       "      <td>SS433</td>\n",
       "      <td>29526.1009</td>\n",
       "      <td>N</td>\n",
       "      <td>A</td>\n",
       "      <td>-1.0</td>\n",
       "      <td>-1.0</td>\n",
       "      <td>287.9816</td>\n",
       "      <td>5.0093</td>\n",
       "      <td>4U 1909+07</td>\n",
       "      <td>HMXB-NS</td>\n",
       "      <td>4U 1909+07</td>\n",
       "      <td>287.700892</td>\n",
       "      <td>7.597699</td>\n",
       "    </tr>\n",
       "  </tbody>\n",
       "</table>\n",
       "</div>"
      ],
      "text/plain": [
       "            STRAYID Classification        SEQID Module    Exposure Multi  \\\n",
       "704  StrayCatsI_704             SL  30002041016  SS433  29526.1009     N   \n",
       "\n",
       "    Primary  TIME  END_TIME  RA_PRIMARY DEC_PRIMARY   SL Source  SL Type  \\\n",
       "704       A  -1.0      -1.0    287.9816      5.0093  4U 1909+07  HMXB-NS   \n",
       "\n",
       "      SIMBAD_ID       RA_SL    DEC_SL  \n",
       "704  4U 1909+07  287.700892  7.597699  "
      ]
     },
     "execution_count": 28,
     "metadata": {},
     "output_type": "execute_result"
    }
   ],
   "source": [
    "straycats[straycats['TIME'] < 0]"
   ]
  },
  {
   "cell_type": "code",
   "execution_count": null,
   "metadata": {},
   "outputs": [],
   "source": [
    "numaster.loc[numaster['OBSID'] == 30201029002, 'TIME'].values[0]"
   ]
  },
  {
   "cell_type": "code",
   "execution_count": null,
   "metadata": {},
   "outputs": [],
   "source": [
    "straycats.loc[(straycats['SEQID'] == 30201029002)&(straycats['Module'] == 'A'), 'TIME']"
   ]
  },
  {
   "cell_type": "code",
   "execution_count": 32,
   "metadata": {},
   "outputs": [
    {
     "data": {
      "text/html": [
       "<div>\n",
       "<style scoped>\n",
       "    .dataframe tbody tr th:only-of-type {\n",
       "        vertical-align: middle;\n",
       "    }\n",
       "\n",
       "    .dataframe tbody tr th {\n",
       "        vertical-align: top;\n",
       "    }\n",
       "\n",
       "    .dataframe thead th {\n",
       "        text-align: right;\n",
       "    }\n",
       "</style>\n",
       "<table border=\"1\" class=\"dataframe\">\n",
       "  <thead>\n",
       "    <tr style=\"text-align: right;\">\n",
       "      <th></th>\n",
       "      <th>STRAYID</th>\n",
       "      <th>Classification</th>\n",
       "      <th>SEQID</th>\n",
       "      <th>Module</th>\n",
       "      <th>Exposure</th>\n",
       "      <th>Multi</th>\n",
       "      <th>Primary</th>\n",
       "      <th>TIME</th>\n",
       "      <th>END_TIME</th>\n",
       "      <th>RA_PRIMARY</th>\n",
       "      <th>DEC_PRIMARY</th>\n",
       "      <th>SL Source</th>\n",
       "      <th>SL Type</th>\n",
       "      <th>SIMBAD_ID</th>\n",
       "      <th>RA_SL</th>\n",
       "      <th>DEC_SL</th>\n",
       "    </tr>\n",
       "  </thead>\n",
       "  <tbody>\n",
       "    <tr>\n",
       "      <th>704</th>\n",
       "      <td>StrayCatsI_704</td>\n",
       "      <td>SL</td>\n",
       "      <td>30002041016</td>\n",
       "      <td>SS433</td>\n",
       "      <td>29526.1009</td>\n",
       "      <td>N</td>\n",
       "      <td>A</td>\n",
       "      <td>-1.000000</td>\n",
       "      <td>-1.00000</td>\n",
       "      <td>287.9816</td>\n",
       "      <td>5.0093</td>\n",
       "      <td>4U 1909+07</td>\n",
       "      <td>HMXB-NS</td>\n",
       "      <td>4U 1909+07</td>\n",
       "      <td>287.700892</td>\n",
       "      <td>7.597699</td>\n",
       "    </tr>\n",
       "    <tr>\n",
       "      <th>705</th>\n",
       "      <td>StrayCatsI_705</td>\n",
       "      <td>SL</td>\n",
       "      <td>30002041016</td>\n",
       "      <td>A</td>\n",
       "      <td>29526.0401</td>\n",
       "      <td>N</td>\n",
       "      <td>SS433</td>\n",
       "      <td>57104.740361</td>\n",
       "      <td>57105.37925</td>\n",
       "      <td>287.9816</td>\n",
       "      <td>5.0093</td>\n",
       "      <td>X1908+075</td>\n",
       "      <td>HMXB-NS</td>\n",
       "      <td>1E 1908.4+0730</td>\n",
       "      <td>287.700892</td>\n",
       "      <td>7.597699</td>\n",
       "    </tr>\n",
       "  </tbody>\n",
       "</table>\n",
       "</div>"
      ],
      "text/plain": [
       "            STRAYID Classification        SEQID Module    Exposure Multi  \\\n",
       "704  StrayCatsI_704             SL  30002041016  SS433  29526.1009     N   \n",
       "705  StrayCatsI_705             SL  30002041016      A  29526.0401     N   \n",
       "\n",
       "    Primary          TIME     END_TIME  RA_PRIMARY DEC_PRIMARY   SL Source  \\\n",
       "704       A     -1.000000     -1.00000    287.9816      5.0093  4U 1909+07   \n",
       "705   SS433  57104.740361  57105.37925    287.9816      5.0093   X1908+075   \n",
       "\n",
       "     SL Type       SIMBAD_ID       RA_SL    DEC_SL  \n",
       "704  HMXB-NS      4U 1909+07  287.700892  7.597699  \n",
       "705  HMXB-NS  1E 1908.4+0730  287.700892  7.597699  "
      ]
     },
     "execution_count": 32,
     "metadata": {},
     "output_type": "execute_result"
    }
   ],
   "source": [
    "straycats.loc[(straycats['SEQID'] == 30002041016)]"
   ]
  },
  {
   "cell_type": "code",
   "execution_count": 19,
   "metadata": {},
   "outputs": [
    {
     "data": {
      "text/plain": [
       "STRAYID           182\n",
       "Classification    182\n",
       "SEQID             182\n",
       "Module            182\n",
       "Exposure          182\n",
       "Multi             182\n",
       "Primary           182\n",
       "TIME              182\n",
       "END_TIME          182\n",
       "RA_PRIMARY        182\n",
       "DEC_PRIMARY       182\n",
       "SL Source         182\n",
       "SL Type           182\n",
       "SIMBAD_ID         182\n",
       "RA_SL             182\n",
       "DEC_SL            182\n",
       "dtype: int64"
      ]
     },
     "execution_count": 19,
     "metadata": {},
     "output_type": "execute_result"
    }
   ],
   "source": [
    "straycats.loc[straycats['SL Type'] == '??'].count()\n"
   ]
  },
  {
   "cell_type": "code",
   "execution_count": 15,
   "metadata": {},
   "outputs": [
    {
     "data": {
      "text/plain": [
       "STRAYID           756\n",
       "Classification    756\n",
       "SEQID             756\n",
       "Module            756\n",
       "Exposure          756\n",
       "Multi             756\n",
       "Primary           756\n",
       "TIME              756\n",
       "END_TIME          756\n",
       "RA_PRIMARY        756\n",
       "DEC_PRIMARY       756\n",
       "SL Source         756\n",
       "SL Type           756\n",
       "SIMBAD_ID         756\n",
       "RA_SL             756\n",
       "DEC_SL            756\n",
       "dtype: int64"
      ]
     },
     "execution_count": 15,
     "metadata": {},
     "output_type": "execute_result"
    }
   ],
   "source": [
    "straycats.count()"
   ]
  },
  {
   "cell_type": "code",
   "execution_count": 22,
   "metadata": {},
   "outputs": [
    {
     "data": {
      "text/plain": [
       "STRAYID           56\n",
       "Classification    56\n",
       "SEQID             56\n",
       "Module            56\n",
       "Exposure          56\n",
       "Multi             56\n",
       "Primary           56\n",
       "TIME              56\n",
       "END_TIME          56\n",
       "RA_PRIMARY        56\n",
       "DEC_PRIMARY       56\n",
       "SL Source         56\n",
       "SL Type           56\n",
       "SIMBAD_ID         56\n",
       "RA_SL             56\n",
       "DEC_SL            56\n",
       "dtype: int64"
      ]
     },
     "execution_count": 22,
     "metadata": {},
     "output_type": "execute_result"
    }
   ],
   "source": [
    "straycats.loc[straycats['Classification'] == 'GR'].count()\n",
    "\n"
   ]
  },
  {
   "cell_type": "code",
   "execution_count": 26,
   "metadata": {},
   "outputs": [
    {
     "data": {
      "text/plain": [
       "14"
      ]
     },
     "execution_count": 26,
     "metadata": {},
     "output_type": "execute_result"
    }
   ],
   "source": [
    "len(straycats.loc[straycats['Classification'] == 'Unkn', 'SEQID'].unique())"
   ]
  },
  {
   "cell_type": "code",
   "execution_count": null,
   "metadata": {},
   "outputs": [],
   "source": []
  }
 ],
 "metadata": {
  "kernelspec": {
   "display_name": "Python 3",
   "language": "python",
   "name": "python3"
  },
  "language_info": {
   "codemirror_mode": {
    "name": "ipython",
    "version": 3
   },
   "file_extension": ".py",
   "mimetype": "text/x-python",
   "name": "python",
   "nbconvert_exporter": "python",
   "pygments_lexer": "ipython3",
   "version": "3.7.4"
  }
 },
 "nbformat": 4,
 "nbformat_minor": 4
}
