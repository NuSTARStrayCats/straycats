{
 "cells": [
  {
   "cell_type": "code",
   "execution_count": 32,
   "id": "e72223a8-23c3-4e8b-bfef-bbd04b5dc377",
   "metadata": {},
   "outputs": [],
   "source": [
    "from astropy.io.fits import getdata\n",
    "import numpy as np"
   ]
  },
  {
   "cell_type": "code",
   "execution_count": 33,
   "id": "8cf9d980-274d-42c7-b38c-6496bfc64c57",
   "metadata": {},
   "outputs": [],
   "source": [
    "data = getdata('StrayCats_SLsources_3arcminbkg.fits')"
   ]
  },
  {
   "cell_type": "code",
   "execution_count": 34,
   "id": "e1b13dec-4327-44bf-97ab-c162f2a41f4d",
   "metadata": {},
   "outputs": [
    {
     "data": {
      "text/plain": [
       "ColDefs(\n",
       "    name = 'StrayID'; format = '15A'\n",
       "    name = 'SL Source'; format = '23A'\n",
       "    name = 'SL Type'; format = '16A'\n",
       "    name = 'ObsID'; format = '20A'\n",
       "    name = 'Module'; format = '1A'\n",
       "    name = 'MJD'; format = 'D'\n",
       "    name = 'Exposure (s)'; format = 'D'\n",
       "    name = 'Area (cm2)'; format = 'D'\n",
       "    name = 'Total Counts (3-8 keV)'; format = 'D'\n",
       "    name = 'Error Total Counts (3-8 keV)'; format = 'D'\n",
       "    name = 'Total Counts (8-13 keV)'; format = 'D'\n",
       "    name = 'Error Total Counts (8-13 keV)'; format = 'D'\n",
       "    name = 'HR'; format = 'D'\n",
       "    name = 'Error HR'; format = 'D'\n",
       "    name = '3-8 keV count/s/cm2'; format = 'D'\n",
       "    name = 'Error 3-8 keV count/s/cm2'; format = 'D'\n",
       "    name = '8-13 keV count/s/cm2'; format = 'D'\n",
       "    name = 'Error 8-13 keV count/s/cm2'; format = 'D'\n",
       "    name = '3-8 keV bkgd count/s/cm2'; format = 'D'\n",
       "    name = 'Error 3-8 keV bkgd count/s/cm2'; format = 'D'\n",
       "    name = '8-13 keV bkgd count/s/cm2'; format = 'D'\n",
       "    name = 'Error 8-13 keV bkgd count/s/cm2'; format = 'D'\n",
       ")"
      ]
     },
     "execution_count": 34,
     "metadata": {},
     "output_type": "execute_result"
    }
   ],
   "source": [
    "data.columns\n",
    "#data = data[data['3-8 keV count/s/cm2'] < 2.]"
   ]
  },
  {
   "cell_type": "code",
   "execution_count": 35,
   "id": "86e47788-88e7-4e2a-b999-6eb6f32a8d32",
   "metadata": {},
   "outputs": [],
   "source": [
    "src = data['3-8 keV count/s/cm2'] + data['8-13 keV count/s/cm2']\n",
    "src_err = np.sqrt(data['Error 3-8 keV count/s/cm2']**2 + data['Error 8-13 keV count/s/cm2']**2)\n",
    "\n",
    "bgd = data['3-8 keV bkgd count/s/cm2'] + data['8-13 keV bkgd count/s/cm2']\n",
    "bgd_err = np.sqrt(data['Error 3-8 keV bkgd count/s/cm2']**2 + data['Error 8-13 keV count/s/cm2']**2)"
   ]
  },
  {
   "cell_type": "code",
   "execution_count": 57,
   "id": "8ae09364-13df-437d-b6f5-e7cbb3bf2d01",
   "metadata": {},
   "outputs": [],
   "source": [
    "import matplotlib.pyplot as plt\n",
    "from matplotlib import rc_params\n",
    "import matplotlib as mpl\n",
    "mpl.rcParams['lines.linewidth'] = 1\n",
    "mpl.rcParams['axes.linewidth'] = 1    \n",
    "mpl.rcParams['mathtext.fontset'] = 'cm'\n",
    "mpl.rcParams['mathtext.rm'] = 'serif'\n",
    "mpl.rcParams['font.family'] = 'serif'\n",
    "mpl.rcParams['font.size'] = 12"
   ]
  },
  {
   "cell_type": "code",
   "execution_count": 49,
   "id": "6e5f3604-6da1-445b-b134-a6d899c9dbf4",
   "metadata": {},
   "outputs": [
    {
     "data": {
      "image/png": "[encoded data removed]",
      "text/plain": [
       "<Figure size 432x288 with 1 Axes>"
      ]
     },
     "metadata": {
      "needs_background": "light"
     },
     "output_type": "display_data"
    }
   ],
   "source": [
    "delta = src - bgd\n",
    "sig = np.sqrt(bgd_err**2 + src_err**2)\n",
    "\n",
    "snr = delta / sig\n",
    "\n",
    "ax = plt.figure().subplots()\n",
    "ax.scatter(src, snr)\n",
    "ax.set_xlim(0, 3)\n",
    "plt.show()"
   ]
  },
  {
   "cell_type": "code",
   "execution_count": 59,
   "id": "629e922e-1b0d-47b1-a7dc-7987c0439e19",
   "metadata": {},
   "outputs": [
    {
     "data": {
      "image/png": "[encoded data removed]",
      "text/plain": [
       "<Figure size 648x432 with 1 Axes>"
      ]
     },
     "metadata": {
      "needs_background": "light"
     },
     "output_type": "display_data"
    }
   ],
   "source": [
    "delta = src - bgd\n",
    "sig = np.sqrt((1.0*bgd_err)**2 + src_err**2)\n",
    "\n",
    "snr = delta / sig\n",
    "\n",
    "ax = plt.figure(figsize=(9, 6)).subplots()\n",
    "ax.hist(snr, range=[0.1, 150], bins=150)\n",
    "ax.set_xlabel('SNR')\n",
    "ax.set_ylabel('# of SL obs')\n",
    "#ax.set_xscale('Log')\n",
    "#ax.set_yscale('Log')\n",
    "\n",
    "#ax.set_xlim(0, 20)\n",
    "plt.savefig('SNR_hist.pdf')\n",
    "\n",
    "plt.show()"
   ]
  },
  {
   "cell_type": "code",
   "execution_count": null,
   "id": "844010ff-3c1e-4616-a154-6cfffa803516",
   "metadata": {},
   "outputs": [],
   "source": []
  }
 ],
 "metadata": {
  "kernelspec": {
   "display_name": "Python 3 (ipykernel)",
   "language": "python",
   "name": "python3"
  },
  "language_info": {
   "codemirror_mode": {
    "name": "ipython",
    "version": 3
   },
   "file_extension": ".py",
   "mimetype": "text/x-python",
   "name": "python",
   "nbconvert_exporter": "python",
   "pygments_lexer": "ipython3",
   "version": "3.9.7"
  }
 },
 "nbformat": 4,
 "nbformat_minor": 5
}
