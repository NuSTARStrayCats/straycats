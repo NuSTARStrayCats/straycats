{
 "cells": [
  {
   "cell_type": "code",
   "execution_count": 144,
   "id": "f05c7e0c-a9c0-4e8a-8f68-65118ab0344f",
   "metadata": {},
   "outputs": [],
   "source": [
    "import numpy as np\n",
    "import pandas as pd\n",
    "from astropy.table import Table\n",
    "from astropy.io.fits import getdata\n",
    "from astropy.time import Time\n",
    "from astropy.io import fits\n",
    "import sys\n",
    "from astroquery.simbad import Simbad\n",
    "from astropy.coordinates import SkyCoord\n",
    "import astropy.units as u\n",
    "\n",
    "\n",
    "\n",
    "sc2 = Table.read('fits/straycats_v2_incr2.fits', format = 'fits')\n",
    "\n",
    "for key in sc2.columns:\n",
    "    if sc2[key].dtype.str.startswith('|S'):\n",
    "        sc2[key] = sc2[key].astype('str') \n",
    "df = sc2.to_pandas()\n",
    "df.columns\n",
    "meta2 = Table.read('fits/StrayCats_SLsources_3arcminbkg.fits')\n",
    "\n",
    "for key in meta2.columns:\n",
    "    if meta2[key].dtype.str.startswith('|S'):\n",
    "        meta2[key] = meta2[key].astype('str') \n",
    "df2 = meta2.to_pandas()"
   ]
  },
  {
   "cell_type": "code",
   "execution_count": 145,
   "id": "b2eed4e6-248d-4a21-a314-099a312b58c2",
   "metadata": {},
   "outputs": [],
   "source": [
    "df = sc2.to_pandas()\n",
    "df = df[df['Classification'] != 'Duplicate'].copy()\n",
    "# Remove whitesapce from GRs\n",
    "df['Classification'] = df['Classification'].str.strip()\n",
    "df2 = meta2.to_pandas()"
   ]
  },
  {
   "cell_type": "code",
   "execution_count": 146,
   "id": "5a6dbaa2-7bac-41bb-a519-c4bf85e82291",
   "metadata": {},
   "outputs": [
    {
     "name": "stdout",
     "output_type": "stream",
     "text": [
      "Area (cm2)\n",
      "Total Counts (3-8 keV)\n",
      "Error Total Counts (3-8 keV)\n",
      "Total Counts (8-13 keV)\n",
      "Error Total Counts (8-13 keV)\n",
      "HR\n",
      "Error HR\n",
      "3-8 keV count/s/cm2\n",
      "Error 3-8 keV count/s/cm2\n",
      "8-13 keV count/s/cm2\n",
      "Error 8-13 keV count/s/cm2\n",
      "3-8 keV bkgd count/s/cm2\n",
      "Error 3-8 keV bkgd count/s/cm2\n",
      "8-13 keV bkgd count/s/cm2\n",
      "Error 8-13 keV bkgd count/s/cm2\n"
     ]
    }
   ],
   "source": [
    "rows = len(df)\n",
    "greenlist = []\n",
    "for key in df2.columns:\n",
    "    if key not in df.columns:\n",
    "        if key not in ('StrayID', 'ObsID', 'MJD', 'Exposure (s)'):\n",
    "            print(key)\n",
    "            greenlist = np.append(greenlist, key)\n",
    "            newcol = [-999.0 for x in range(rows)]\n",
    "            df[key] = newcol"
   ]
  },
  {
   "cell_type": "code",
   "execution_count": 147,
   "id": "109c8e73-0af1-46ab-9783-ac7d8e00fe71",
   "metadata": {},
   "outputs": [
    {
     "name": "stderr",
     "output_type": "stream",
     "text": [
      "/Users/bwgref/science/local/src/miniconda3/envs/nustar/lib/python3.9/site-packages/pandas/core/indexing.py:1732: SettingWithCopyWarning: \n",
      "A value is trying to be set on a copy of a slice from a DataFrame\n",
      "\n",
      "See the caveats in the documentation: https://pandas.pydata.org/pandas-docs/stable/user_guide/indexing.html#returning-a-view-versus-a-copy\n",
      "  self._setitem_single_block(indexer, value, name)\n"
     ]
    }
   ],
   "source": [
    "for row in df2.iterrows():\n",
    "    for key in greenlist:\n",
    "        df[key].loc[df['STRAYID'] == row[1]['StrayID']] = row[1][key]\n",
    "    \n"
   ]
  },
  {
   "cell_type": "code",
   "execution_count": 148,
   "id": "ca07c732-c0ea-4398-8804-a9c1f1568832",
   "metadata": {},
   "outputs": [],
   "source": [
    "tab = Table.from_pandas(df)\n",
    "tab.write('fits/straycats_v3.fits', overwrite=True)"
   ]
  },
  {
   "cell_type": "code",
   "execution_count": 149,
   "id": "405c534e-ad59-4113-964b-d85a50609007",
   "metadata": {},
   "outputs": [
    {
     "data": {
      "text/html": [
       "<div><i>Table length=857</i>\n",
       "<table id=\"table140580532447024\" class=\"table-striped table-bordered table-condensed\">\n",
       "<thead><tr><th>STRAYID</th><th>Classification</th><th>SEQID</th><th>Module</th><th>Exposure</th><th>Multi</th><th>Primary</th><th>TIME</th><th>END_TIME</th><th>RA_PRIMARY</th><th>DEC_PRIMARY</th><th>SL Source</th><th>SL Type</th><th>SIMBAD_ID</th><th>RA_SL</th><th>DEC_SL</th><th>Area (cm2)</th><th>Total Counts (3-8 keV)</th><th>Error Total Counts (3-8 keV)</th><th>Total Counts (8-13 keV)</th><th>Error Total Counts (8-13 keV)</th><th>HR</th><th>Error HR</th><th>3-8 keV count/s/cm2</th><th>Error 3-8 keV count/s/cm2</th><th>8-13 keV count/s/cm2</th><th>Error 8-13 keV count/s/cm2</th><th>3-8 keV bkgd count/s/cm2</th><th>Error 3-8 keV bkgd count/s/cm2</th><th>8-13 keV bkgd count/s/cm2</th><th>Error 8-13 keV bkgd count/s/cm2</th></tr></thead>\n",
       "<thead><tr><th>str15</th><th>str7</th><th>int64</th><th>str1</th><th>float64</th><th>str1</th><th>str23</th><th>float64</th><th>float64</th><th>float64</th><th>float64</th><th>str23</th><th>str16</th><th>str23</th><th>float64</th><th>float64</th><th>float64</th><th>float64</th><th>float64</th><th>float64</th><th>float64</th><th>float64</th><th>float64</th><th>float64</th><th>float64</th><th>float64</th><th>float64</th><th>float64</th><th>float64</th><th>float64</th><th>float64</th></tr></thead>\n",
       "<tr><td>StrayCatsI_0</td><td>Faint</td><td>30001014002</td><td>B</td><td>88472.3252</td><td>N</td><td>IC10_X1</td><td>56967.76813870371</td><td>56969.70911092593</td><td>5.0742</td><td>59.2736</td><td>??</td><td>??</td><td>NA</td><td>-999.0</td><td>-999.0</td><td>-999.0</td><td>-999.0</td><td>-999.0</td><td>-999.0</td><td>-999.0</td><td>-999.0</td><td>-999.0</td><td>-999.0</td><td>-999.0</td><td>-999.0</td><td>-999.0</td><td>-999.0</td><td>-999.0</td><td>-999.0</td><td>-999.0</td></tr>\n",
       "<tr><td>StrayCatsI_1</td><td>Unkn</td><td>90101010002</td><td>A</td><td>38102.7867</td><td>N</td><td>IGR_J00291p5934</td><td>57231.53203916667</td><td>57232.32370583334</td><td>7.2752</td><td>59.5982</td><td>??</td><td>??</td><td>NA</td><td>-999.0</td><td>-999.0</td><td>-999.0</td><td>-999.0</td><td>-999.0</td><td>-999.0</td><td>-999.0</td><td>-999.0</td><td>-999.0</td><td>-999.0</td><td>-999.0</td><td>-999.0</td><td>-999.0</td><td>-999.0</td><td>-999.0</td><td>-999.0</td><td>-999.0</td></tr>\n",
       "<tr><td>StrayCatsI_2</td><td>SL</td><td>90201030002</td><td>A</td><td>54920.5708</td><td>N</td><td>SWIFT_J003233d6m7306</td><td>57586.71606694445</td><td>57587.60842805556</td><td>8.1969</td><td>-73.0956</td><td>SMC X-1</td><td>HMXB-NS</td><td>SMC X-1</td><td>19.271436249999994</td><td>-73.4433375</td><td>0.6867</td><td>996.0</td><td>31.56</td><td>509.0</td><td>22.56</td><td>0.511</td><td>0.028</td><td>0.026409</td><td>0.000837</td><td>0.013496</td><td>0.000598</td><td>0.0111</td><td>0.00555</td><td>0.0053</td><td>0.00265</td></tr>\n",
       "<tr><td>StrayCatsI_3</td><td>SL</td><td>90201041002</td><td>A</td><td>38601.5531</td><td>N</td><td>SMC_X3</td><td>57704.740372500004</td><td>57705.60842805556</td><td>13.0299</td><td>-72.4574</td><td>SMC X-1</td><td>HMXB-NS</td><td>SMC X-1</td><td>19.271436249999994</td><td>-73.4433375</td><td>4.3074</td><td>4121.0</td><td>64.2</td><td>2024.0</td><td>44.99</td><td>0.491</td><td>0.013</td><td>0.024785</td><td>0.000386</td><td>0.012173</td><td>0.000271</td><td>0.0135</td><td>0.00675</td><td>0.0073</td><td>0.00365</td></tr>\n",
       "<tr><td>...</td><td>...</td><td>...</td><td>...</td><td>...</td><td>...</td><td>...</td><td>...</td><td>...</td><td>...</td><td>...</td><td>...</td><td>...</td><td>...</td><td>...</td><td>...</td><td>...</td><td>...</td><td>...</td><td>...</td><td>...</td><td>...</td><td>...</td><td>...</td><td>...</td><td>...</td><td>...</td><td>...</td><td>...</td><td>...</td><td>...</td></tr>\n",
       "<tr><td>StrayCatsII_101</td><td>SL</td><td>90701306002</td><td>B</td><td>44607.4871</td><td>N</td><td>Swift_182251m135218</td><td>59265.96607851852</td><td>59267.01121740741</td><td>275.7079</td><td>-13.883</td><td>GX 17+2</td><td>LMXB-NS</td><td>GX 17+2</td><td>274.00578749999994</td><td>-14.036283333333333</td><td>8.9283</td><td>326386.0</td><td>571.3</td><td>68319.0</td><td>261.38</td><td>0.209</td><td>0.001</td><td>0.819511</td><td>0.001434</td><td>0.17154</td><td>0.000656</td><td>0.0348</td><td>0.0174</td><td>0.0099</td><td>0.00495</td></tr>\n",
       "<tr><td>StrayCatsII_102</td><td>GR</td><td>40701002002</td><td>A</td><td>97596.2824</td><td>N</td><td>W50_WESTERN_LOBE</td><td>59409.8063562963</td><td>59412.2126062963</td><td>287.6642</td><td>5.025</td><td>??</td><td>??</td><td>NA</td><td>-999.0</td><td>-999.0</td><td>-999.0</td><td>-999.0</td><td>-999.0</td><td>-999.0</td><td>-999.0</td><td>-999.0</td><td>-999.0</td><td>-999.0</td><td>-999.0</td><td>-999.0</td><td>-999.0</td><td>-999.0</td><td>-999.0</td><td>-999.0</td><td>-999.0</td></tr>\n",
       "<tr><td>StrayCatsII_103</td><td>GR</td><td>40701002002</td><td>B</td><td>96644.4133</td><td>N</td><td>W50_WESTERN_LOBE</td><td>59409.8063562963</td><td>59412.2126062963</td><td>287.6642</td><td>5.025</td><td>??</td><td>??</td><td>NA</td><td>-999.0</td><td>-999.0</td><td>-999.0</td><td>-999.0</td><td>-999.0</td><td>-999.0</td><td>-999.0</td><td>-999.0</td><td>-999.0</td><td>-999.0</td><td>-999.0</td><td>-999.0</td><td>-999.0</td><td>-999.0</td><td>-999.0</td><td>-999.0</td><td>-999.0</td></tr>\n",
       "<tr><td>StrayCatsII_104</td><td>SL</td><td>90701336002</td><td>B</td><td>23583.909</td><td>N</td><td>EXO_2030p375</td><td>59526.14663407407</td><td>59526.747328518526</td><td>308.0343</td><td>37.5922</td><td>Cyg X-3</td><td>HMXB-BH</td><td>Cyg X-3</td><td>308.1074166666666</td><td>40.957750000000004</td><td>0.4433</td><td>5948.0</td><td>77.12</td><td>1367.0</td><td>36.97</td><td>0.23</td><td>0.007</td><td>0.568928</td><td>0.007377</td><td>0.130754</td><td>0.003536</td><td>0.0859</td><td>0.04295</td><td>0.0301</td><td>0.01505</td></tr>\n",
       "<tr><td>StrayCatsII_105</td><td>SL</td><td>90701312002</td><td>B</td><td>40852.2448</td><td>N</td><td>PNV_J23244760p6111140</td><td>59293.955661851855</td><td>59294.611911851855</td><td>351.2713</td><td>61.1574</td><td>Cas A</td><td>SNR</td><td>Cas A</td><td>350.84999999999997</td><td>58.815</td><td>3.49</td><td>6682.0</td><td>81.74</td><td>1113.0</td><td>33.36</td><td>0.167</td><td>0.005</td><td>0.046867</td><td>0.000573</td><td>0.007806</td><td>0.000234</td><td>0.0106</td><td>0.0053</td><td>0.0046</td><td>0.0023</td></tr>\n",
       "</table></div>"
      ],
      "text/plain": [
       "<Table length=857>\n",
       "    STRAYID     Classification ... Error 8-13 keV bkgd count/s/cm2\n",
       "     str15           str7      ...             float64            \n",
       "--------------- -------------- ... -------------------------------\n",
       "   StrayCatsI_0          Faint ...                          -999.0\n",
       "   StrayCatsI_1           Unkn ...                          -999.0\n",
       "   StrayCatsI_2             SL ...                         0.00265\n",
       "   StrayCatsI_3             SL ...                         0.00365\n",
       "            ...            ... ...                             ...\n",
       "StrayCatsII_101             SL ...                         0.00495\n",
       "StrayCatsII_102             GR ...                          -999.0\n",
       "StrayCatsII_103             GR ...                          -999.0\n",
       "StrayCatsII_104             SL ...                         0.01505\n",
       "StrayCatsII_105             SL ...                          0.0023"
      ]
     },
     "execution_count": 149,
     "metadata": {},
     "output_type": "execute_result"
    }
   ],
   "source": [
    "tab"
   ]
  },
  {
   "cell_type": "code",
   "execution_count": 150,
   "id": "63adb560-3926-44f9-912a-8f41fa76bac0",
   "metadata": {},
   "outputs": [],
   "source": [
    "# Check that it worked\n",
    "cat = Table.read('fits/straycats_v3.fits', format ='fits')"
   ]
  },
  {
   "cell_type": "code",
   "execution_count": 151,
   "id": "27840619-47c7-4523-a319-abc1184b6fe1",
   "metadata": {},
   "outputs": [
    {
     "data": {
      "text/html": [
       "<div><i>Table length=857</i>\n",
       "<table id=\"table140580539427520\" class=\"table-striped table-bordered table-condensed\">\n",
       "<thead><tr><th>STRAYID</th><th>Classification</th><th>SEQID</th><th>Module</th><th>Exposure</th><th>Multi</th><th>Primary</th><th>TIME</th><th>END_TIME</th><th>RA_PRIMARY</th><th>DEC_PRIMARY</th><th>SL Source</th><th>SL Type</th><th>SIMBAD_ID</th><th>RA_SL</th><th>DEC_SL</th><th>Area (cm2)</th><th>Total Counts (3-8 keV)</th><th>Error Total Counts (3-8 keV)</th><th>Total Counts (8-13 keV)</th><th>Error Total Counts (8-13 keV)</th><th>HR</th><th>Error HR</th><th>3-8 keV count/s/cm2</th><th>Error 3-8 keV count/s/cm2</th><th>8-13 keV count/s/cm2</th><th>Error 8-13 keV count/s/cm2</th><th>3-8 keV bkgd count/s/cm2</th><th>Error 3-8 keV bkgd count/s/cm2</th><th>8-13 keV bkgd count/s/cm2</th><th>Error 8-13 keV bkgd count/s/cm2</th></tr></thead>\n",
       "<thead><tr><th>bytes15</th><th>bytes7</th><th>int64</th><th>bytes1</th><th>float64</th><th>bytes1</th><th>bytes23</th><th>float64</th><th>float64</th><th>float64</th><th>float64</th><th>bytes23</th><th>bytes16</th><th>bytes23</th><th>float64</th><th>float64</th><th>float64</th><th>float64</th><th>float64</th><th>float64</th><th>float64</th><th>float64</th><th>float64</th><th>float64</th><th>float64</th><th>float64</th><th>float64</th><th>float64</th><th>float64</th><th>float64</th><th>float64</th></tr></thead>\n",
       "<tr><td>StrayCatsI_0</td><td>Faint</td><td>30001014002</td><td>B</td><td>88472.3252</td><td>N</td><td>IC10_X1</td><td>56967.76813870371</td><td>56969.70911092593</td><td>5.0742</td><td>59.2736</td><td>??</td><td>??</td><td>NA</td><td>-999.0</td><td>-999.0</td><td>-999.0</td><td>-999.0</td><td>-999.0</td><td>-999.0</td><td>-999.0</td><td>-999.0</td><td>-999.0</td><td>-999.0</td><td>-999.0</td><td>-999.0</td><td>-999.0</td><td>-999.0</td><td>-999.0</td><td>-999.0</td><td>-999.0</td></tr>\n",
       "<tr><td>StrayCatsI_1</td><td>Unkn</td><td>90101010002</td><td>A</td><td>38102.7867</td><td>N</td><td>IGR_J00291p5934</td><td>57231.53203916667</td><td>57232.32370583334</td><td>7.2752</td><td>59.5982</td><td>??</td><td>??</td><td>NA</td><td>-999.0</td><td>-999.0</td><td>-999.0</td><td>-999.0</td><td>-999.0</td><td>-999.0</td><td>-999.0</td><td>-999.0</td><td>-999.0</td><td>-999.0</td><td>-999.0</td><td>-999.0</td><td>-999.0</td><td>-999.0</td><td>-999.0</td><td>-999.0</td><td>-999.0</td></tr>\n",
       "<tr><td>StrayCatsI_2</td><td>SL</td><td>90201030002</td><td>A</td><td>54920.5708</td><td>N</td><td>SWIFT_J003233d6m7306</td><td>57586.71606694445</td><td>57587.60842805556</td><td>8.1969</td><td>-73.0956</td><td>SMC X-1</td><td>HMXB-NS</td><td>SMC X-1</td><td>19.271436249999994</td><td>-73.4433375</td><td>0.6867</td><td>996.0</td><td>31.56</td><td>509.0</td><td>22.56</td><td>0.511</td><td>0.028</td><td>0.026409</td><td>0.000837</td><td>0.013496</td><td>0.000598</td><td>0.0111</td><td>0.00555</td><td>0.0053</td><td>0.00265</td></tr>\n",
       "<tr><td>StrayCatsI_3</td><td>SL</td><td>90201041002</td><td>A</td><td>38601.5531</td><td>N</td><td>SMC_X3</td><td>57704.740372500004</td><td>57705.60842805556</td><td>13.0299</td><td>-72.4574</td><td>SMC X-1</td><td>HMXB-NS</td><td>SMC X-1</td><td>19.271436249999994</td><td>-73.4433375</td><td>4.3074</td><td>4121.0</td><td>64.2</td><td>2024.0</td><td>44.99</td><td>0.491</td><td>0.013</td><td>0.024785</td><td>0.000386</td><td>0.012173</td><td>0.000271</td><td>0.0135</td><td>0.00675</td><td>0.0073</td><td>0.00365</td></tr>\n",
       "<tr><td>...</td><td>...</td><td>...</td><td>...</td><td>...</td><td>...</td><td>...</td><td>...</td><td>...</td><td>...</td><td>...</td><td>...</td><td>...</td><td>...</td><td>...</td><td>...</td><td>...</td><td>...</td><td>...</td><td>...</td><td>...</td><td>...</td><td>...</td><td>...</td><td>...</td><td>...</td><td>...</td><td>...</td><td>...</td><td>...</td><td>...</td></tr>\n",
       "<tr><td>StrayCatsII_101</td><td>SL</td><td>90701306002</td><td>B</td><td>44607.4871</td><td>N</td><td>Swift_182251m135218</td><td>59265.96607851852</td><td>59267.01121740741</td><td>275.7079</td><td>-13.883</td><td>GX 17+2</td><td>LMXB-NS</td><td>GX 17+2</td><td>274.00578749999994</td><td>-14.036283333333333</td><td>8.9283</td><td>326386.0</td><td>571.3</td><td>68319.0</td><td>261.38</td><td>0.209</td><td>0.001</td><td>0.819511</td><td>0.001434</td><td>0.17154</td><td>0.000656</td><td>0.0348</td><td>0.0174</td><td>0.0099</td><td>0.00495</td></tr>\n",
       "<tr><td>StrayCatsII_102</td><td>GR</td><td>40701002002</td><td>A</td><td>97596.2824</td><td>N</td><td>W50_WESTERN_LOBE</td><td>59409.8063562963</td><td>59412.2126062963</td><td>287.6642</td><td>5.025</td><td>??</td><td>??</td><td>NA</td><td>-999.0</td><td>-999.0</td><td>-999.0</td><td>-999.0</td><td>-999.0</td><td>-999.0</td><td>-999.0</td><td>-999.0</td><td>-999.0</td><td>-999.0</td><td>-999.0</td><td>-999.0</td><td>-999.0</td><td>-999.0</td><td>-999.0</td><td>-999.0</td><td>-999.0</td></tr>\n",
       "<tr><td>StrayCatsII_103</td><td>GR</td><td>40701002002</td><td>B</td><td>96644.4133</td><td>N</td><td>W50_WESTERN_LOBE</td><td>59409.8063562963</td><td>59412.2126062963</td><td>287.6642</td><td>5.025</td><td>??</td><td>??</td><td>NA</td><td>-999.0</td><td>-999.0</td><td>-999.0</td><td>-999.0</td><td>-999.0</td><td>-999.0</td><td>-999.0</td><td>-999.0</td><td>-999.0</td><td>-999.0</td><td>-999.0</td><td>-999.0</td><td>-999.0</td><td>-999.0</td><td>-999.0</td><td>-999.0</td><td>-999.0</td></tr>\n",
       "<tr><td>StrayCatsII_104</td><td>SL</td><td>90701336002</td><td>B</td><td>23583.909</td><td>N</td><td>EXO_2030p375</td><td>59526.14663407407</td><td>59526.747328518526</td><td>308.0343</td><td>37.5922</td><td>Cyg X-3</td><td>HMXB-BH</td><td>Cyg X-3</td><td>308.1074166666666</td><td>40.957750000000004</td><td>0.4433</td><td>5948.0</td><td>77.12</td><td>1367.0</td><td>36.97</td><td>0.23</td><td>0.007</td><td>0.568928</td><td>0.007377</td><td>0.130754</td><td>0.003536</td><td>0.0859</td><td>0.04295</td><td>0.0301</td><td>0.01505</td></tr>\n",
       "<tr><td>StrayCatsII_105</td><td>SL</td><td>90701312002</td><td>B</td><td>40852.2448</td><td>N</td><td>PNV_J23244760p6111140</td><td>59293.955661851855</td><td>59294.611911851855</td><td>351.2713</td><td>61.1574</td><td>Cas A</td><td>SNR</td><td>Cas A</td><td>350.84999999999997</td><td>58.815</td><td>3.49</td><td>6682.0</td><td>81.74</td><td>1113.0</td><td>33.36</td><td>0.167</td><td>0.005</td><td>0.046867</td><td>0.000573</td><td>0.007806</td><td>0.000234</td><td>0.0106</td><td>0.0053</td><td>0.0046</td><td>0.0023</td></tr>\n",
       "</table></div>"
      ],
      "text/plain": [
       "<Table length=857>\n",
       "    STRAYID     Classification ... Error 8-13 keV bkgd count/s/cm2\n",
       "    bytes15         bytes7     ...             float64            \n",
       "--------------- -------------- ... -------------------------------\n",
       "   StrayCatsI_0          Faint ...                          -999.0\n",
       "   StrayCatsI_1           Unkn ...                          -999.0\n",
       "   StrayCatsI_2             SL ...                         0.00265\n",
       "   StrayCatsI_3             SL ...                         0.00365\n",
       "            ...            ... ...                             ...\n",
       "StrayCatsII_101             SL ...                         0.00495\n",
       "StrayCatsII_102             GR ...                          -999.0\n",
       "StrayCatsII_103             GR ...                          -999.0\n",
       "StrayCatsII_104             SL ...                         0.01505\n",
       "StrayCatsII_105             SL ...                          0.0023"
      ]
     },
     "execution_count": 151,
     "metadata": {},
     "output_type": "execute_result"
    }
   ],
   "source": [
    "cat"
   ]
  },
  {
   "cell_type": "code",
   "execution_count": null,
   "id": "d80c44eb-78ba-4e79-beea-acf3add7f290",
   "metadata": {},
   "outputs": [],
   "source": []
  }
 ],
 "metadata": {
  "kernelspec": {
   "display_name": "Python 3 (ipykernel)",
   "language": "python",
   "name": "python3"
  },
  "language_info": {
   "codemirror_mode": {
    "name": "ipython",
    "version": 3
   },
   "file_extension": ".py",
   "mimetype": "text/x-python",
   "name": "python",
   "nbconvert_exporter": "python",
   "pygments_lexer": "ipython3",
   "version": "3.9.7"
  }
 },
 "nbformat": 4,
 "nbformat_minor": 5
}
