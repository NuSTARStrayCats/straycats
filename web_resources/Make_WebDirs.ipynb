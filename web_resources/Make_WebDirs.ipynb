{
 "cells": [
  {
   "cell_type": "code",
   "execution_count": 1,
   "metadata": {},
   "outputs": [],
   "source": [
    "from astropy.table import Table\n",
    "import glob\n",
    "import os"
   ]
  },
  {
   "cell_type": "code",
   "execution_count": 2,
   "metadata": {},
   "outputs": [],
   "source": [
    "sf = '../catalog/fits/straycats.fits'\n",
    "straycat = Table.read(sf)\n",
    "\n",
    "for key in straycat.columns:\n",
    "    if straycat[key].dtype.str.startswith('|S'):\n",
    "        straycat[key] = straycat[key].astype('str') \n",
    "df = straycat.to_pandas()\n",
    "\n"
   ]
  },
  {
   "cell_type": "code",
   "execution_count": 3,
   "metadata": {},
   "outputs": [],
   "source": [
    "seqids = df['SEQID'].unique()\n",
    "\n",
    "fig_dir = '/Users/bwgref/science/adap/all_figs'"
   ]
  },
  {
   "cell_type": "code",
   "execution_count": 4,
   "metadata": {},
   "outputs": [],
   "source": [
    "with open('missing_sl.txt', 'w') as f:\n",
    "    for seqid in seqids:\n",
    "        try:\n",
    "            os.mkdir(f'seqid/{seqid}')\n",
    "        except:\n",
    "            pass\n",
    "        \n",
    "        sl_image = f'{fig_dir}/sl_images/{seqid}.pdf'\n",
    "        if not os.path.isfile(sl_image):\n",
    "            f.write(f'{seqid}\\n')\n",
    "            continue\n",
    "        os.system(f'cp {fig_dir}/sl_images/{seqid}.pdf seqid/{seqid}/{seqid}_straylight.pdf')\n",
    "        "
   ]
  },
  {
   "cell_type": "code",
   "execution_count": null,
   "metadata": {},
   "outputs": [],
   "source": [
    "with open('missing_map.txt', 'w') as f:\n",
    "    for seqid in seqids:\n",
    "        try:\n",
    "            os.mkdir(f'seqid/{seqid}')\n",
    "        except:\n",
    "            pass\n",
    "        \n",
    "        sl_image = f'{fig_dir}/sl_estimates/{seqid}.pdf'\n",
    "        if not os.path.isfile(sl_image):\n",
    "            f.write(f'{seqid}\\n')\n",
    "        else:\n",
    "            os.system(f'cp {fig_dir}/sl_estimates/{seqid}.pdf seqid/{seqid}/{seqid}_estimate.pdf')\n",
    "        \n",
    "        sl2_image = f'{fig_dir}/sl_estimates/{seqid}_v2.pdf'\n",
    "        if not os.path.isfile(sl2_image):\n",
    "            continue\n",
    "        else:\n",
    "            os.system(f'cp {fig_dir}/sl_estimates/{seqid}_v2.pdf seqid/{seqid}/{seqid}_transients.pdf')\n",
    "\n",
    "\n",
    "\n",
    "        "
   ]
  },
  {
   "cell_type": "code",
   "execution_count": 51,
   "metadata": {},
   "outputs": [
    {
     "name": "stdout",
     "output_type": "stream",
     "text": [
      "2MASX J09172716-6456271\n",
      "3C 273\n",
      "4U 0614+091\n",
      "4U 1323-619\n",
      "4U 1538-522\n",
      "4U 1608-522\n",
      "4U 1630-47\n",
      "4U 1636-536\n",
      "4U 1700-377\n",
      "4U 1702-429\n",
      "4U 1705-44\n",
      "4U 1724-30\n",
      "4U 1820-303\n",
      "4U 1822-371\n",
      "1E 1145.1-6141\n",
      "Cen X-3\n",
      "Crab\n",
      "Crab GR\n",
      "Cyg X-1\n",
      "Cyg X-3\n",
      "EXO 2030+375\n",
      "Faint\n",
      "GRS 1915+105\n",
      "GS 1826-24\n",
      "GX 1+4\n",
      "GX 13+1\n",
      "GX 17+2\n",
      "GX 3+1\n",
      "GX 301-2\n",
      "GX 340+0\n",
      "GX 349+2\n",
      "GX 349+2?\n",
      "GX 5-1\n",
      "GX 9+1\n",
      "GX 9+9\n",
      "IC 4329A\n",
      "IGR 16320-4751\n",
      "IGR J16318-4848?\n",
      "IGR J17464-3213\n",
      "IGR J21247+5058\n",
      "LMC source?\n",
      "LMC X-3\n",
      "LMC X-4\n",
      "M1812-12\n",
      "MAXI J1348\n",
      "MAXI J1535\n",
      "MAXI J1820\n",
      "NGC 4151\n",
      "NGC 4388\n",
      "OAO 1657-415\n",
      "PSR 1509-58\n",
      "RX J0053.8-7226\n",
      "SLX 1735-259\n",
      "SLX 1744-299\n",
      "SS 433\n",
      "X1908+075\n",
      "XTE J1550-564?\n",
      "XTE J1855-026\n"
     ]
    }
   ],
   "source": [
    "sources = df['SL Target'].unique()\n",
    "for source in sources:\n",
    "    if source == '??':\n",
    "        continue\n",
    "    try:\n",
    "        os.mkdir(f'sources/{source}')\n",
    "    except:\n",
    "        pass\n",
    "\n",
    "    print(source)\n",
    "    for seqid in df[df['SL Target']==source]['SEQID']:\n",
    "        ss = f'seqid/{seqid}'\n",
    "        if not os.path.isdir(ss):\n",
    "            continue\n",
    "        \n",
    "        try:\n",
    "            os.symlink( f'../../seqid/{seqid}',f'sources/{source}/{seqid}')\n",
    "        except:\n",
    "            pass"
   ]
  },
  {
   "cell_type": "code",
   "execution_count": null,
   "metadata": {},
   "outputs": [],
   "source": []
  }
 ],
 "metadata": {
  "kernelspec": {
   "display_name": "Python 3",
   "language": "python",
   "name": "python3"
  },
  "language_info": {
   "codemirror_mode": {
    "name": "ipython",
    "version": 3
   },
   "file_extension": ".py",
   "mimetype": "text/x-python",
   "name": "python",
   "nbconvert_exporter": "python",
   "pygments_lexer": "ipython3",
   "version": "3.7.4"
  }
 },
 "nbformat": 4,
 "nbformat_minor": 4
}
