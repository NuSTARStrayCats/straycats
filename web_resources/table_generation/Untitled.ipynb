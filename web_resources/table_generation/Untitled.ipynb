{
 "cells": [
  {
   "cell_type": "code",
   "execution_count": 60,
   "id": "fb964910-5313-45e5-8c69-f56d1e69efe3",
   "metadata": {},
   "outputs": [],
   "source": [
    "from astropy.table import Table\n",
    "import numpy as np\n",
    "import urllib\n",
    "from IPython.core.display import HTML\n",
    "\n",
    "\n",
    "sf = '../../straycats.fits'\n",
    "straycat = Table.read(sf)\n",
    "for key in straycat.columns:\n",
    "    if straycat[key].dtype.str.startswith('|S'):\n",
    "        straycat[key] = straycat[key].astype('str') \n",
    "df = straycat.to_pandas()\n",
    "df.columns\n",
    "\n",
    "# Strip out unknowns:\n",
    "sl = df[(df['Classification']=='SL') & (df['RA_SL'] > 0)].copy().reset_index(drop=True)\n",
    "sl = sl.drop(['END_TIME', 'Multi'], axis=1)\n",
    "\n",
    "sl.columns\n",
    "\n",
    "sl['Exposure'] = sl['Exposure'] / 1e3\n",
    "sl['Exposure (ks)'] = sl['Exposure'].map('{:.2f}'.format)\n",
    "sl['TIME'] = sl['TIME'].map('{:.1f}'.format)\n",
    "sl['Area (cm2)'] = sl['Area (cm2)'].map('{:.1f}'.format)\n",
    "sl['3-8 keV count/s/cm2'] = sl['3-8 keV count/s/cm2'].map('{:.3f}'.format)\n",
    "\n"
   ]
  },
  {
   "cell_type": "code",
   "execution_count": 58,
   "id": "cc02691d-fd07-4053-b642-d35eaa602d28",
   "metadata": {},
   "outputs": [
    {
     "name": "stdout",
     "output_type": "stream",
     "text": [
      "1A0535+262\n"
     ]
    }
   ],
   "source": [
    "greenlist = ['SL Source', 'SEQID', 'Module', 'Exposure (ks)', 'TIME', 'Area (cm2)', '3-8 keV count/s/cm2']\n",
    "\n",
    "for key in sl.columns:\n",
    "    if key not in greenlist:\n",
    "        sl = sl.drop(key, axis=1).reset_index(drop=True)\n",
    "\n",
    "for sn in np.unique(sl['SL Source']):\n",
    "    source = sl.loc[sl['SL Source'] == sn]\n",
    "    nospace = sn.replace(\" \", \"\")\n",
    "    # Reorder\n",
    "    source = source[greenlist[1:]]\n",
    "    print(nospace)\n",
    "    break"
   ]
  },
  {
   "cell_type": "code",
   "execution_count": 62,
   "id": "1f709333-0377-4f86-bbc3-e385057ab4fb",
   "metadata": {},
   "outputs": [
    {
     "data": {
      "text/html": [
       "<table border=\"1\" class=\"dataframe\">\n",
       "  <thead>\n",
       "    <tr style=\"text-align: right;\">\n",
       "      <th></th>\n",
       "      <th>SEQID</th>\n",
       "      <th>Module</th>\n",
       "      <th>Exposure (ks)</th>\n",
       "      <th>TIME</th>\n",
       "      <th>Area (cm2)</th>\n",
       "      <th>3-8 keV count/s/cm2</th>\n",
       "    </tr>\n",
       "  </thead>\n",
       "  <tbody>\n",
       "    <tr>\n",
       "      <th>573</th>\n",
       "      <td>90601036001</td>\n",
       "      <td>A</td>\n",
       "      <td>2.04</td>\n",
       "      <td>59186.9</td>\n",
       "      <td>5.9</td>\n",
       "      <td>1.680</td>\n",
       "    </tr>\n",
       "    <tr>\n",
       "      <th>574</th>\n",
       "      <td>90601036001</td>\n",
       "      <td>B</td>\n",
       "      <td>1.99</td>\n",
       "      <td>59186.9</td>\n",
       "      <td>7.7</td>\n",
       "      <td>1.757</td>\n",
       "    </tr>\n",
       "    <tr>\n",
       "      <th>575</th>\n",
       "      <td>90601035001</td>\n",
       "      <td>A</td>\n",
       "      <td>7.92</td>\n",
       "      <td>59172.5</td>\n",
       "      <td>7.5</td>\n",
       "      <td>2.920</td>\n",
       "    </tr>\n",
       "    <tr>\n",
       "      <th>576</th>\n",
       "      <td>90601035001</td>\n",
       "      <td>B</td>\n",
       "      <td>7.84</td>\n",
       "      <td>59172.5</td>\n",
       "      <td>7.7</td>\n",
       "      <td>2.925</td>\n",
       "    </tr>\n",
       "    <tr>\n",
       "      <th>577</th>\n",
       "      <td>90601034002</td>\n",
       "      <td>A</td>\n",
       "      <td>2.98</td>\n",
       "      <td>59164.8</td>\n",
       "      <td>7.4</td>\n",
       "      <td>0.712</td>\n",
       "    </tr>\n",
       "    <tr>\n",
       "      <th>578</th>\n",
       "      <td>90601034002</td>\n",
       "      <td>B</td>\n",
       "      <td>2.96</td>\n",
       "      <td>59164.8</td>\n",
       "      <td>7.6</td>\n",
       "      <td>0.704</td>\n",
       "    </tr>\n",
       "    <tr>\n",
       "      <th>579</th>\n",
       "      <td>90601034001</td>\n",
       "      <td>A</td>\n",
       "      <td>2.98</td>\n",
       "      <td>59164.6</td>\n",
       "      <td>7.4</td>\n",
       "      <td>0.690</td>\n",
       "    </tr>\n",
       "    <tr>\n",
       "      <th>580</th>\n",
       "      <td>90601034001</td>\n",
       "      <td>B</td>\n",
       "      <td>2.95</td>\n",
       "      <td>59164.6</td>\n",
       "      <td>7.6</td>\n",
       "      <td>0.693</td>\n",
       "    </tr>\n",
       "  </tbody>\n",
       "</table>"
      ],
      "text/plain": [
       "<IPython.core.display.HTML object>"
      ]
     },
     "execution_count": 62,
     "metadata": {},
     "output_type": "execute_result"
    }
   ],
   "source": [
    "HTML(source.to_html())"
   ]
  },
  {
   "cell_type": "code",
   "execution_count": null,
   "id": "f7b14b4f-4021-49c7-997e-5cd9589962a7",
   "metadata": {},
   "outputs": [],
   "source": []
  }
 ],
 "metadata": {
  "kernelspec": {
   "display_name": "Python 3 (ipykernel)",
   "language": "python",
   "name": "python3"
  },
  "language_info": {
   "codemirror_mode": {
    "name": "ipython",
    "version": 3
   },
   "file_extension": ".py",
   "mimetype": "text/x-python",
   "name": "python",
   "nbconvert_exporter": "python",
   "pygments_lexer": "ipython3",
   "version": "3.9.7"
  }
 },
 "nbformat": 4,
 "nbformat_minor": 5
}
