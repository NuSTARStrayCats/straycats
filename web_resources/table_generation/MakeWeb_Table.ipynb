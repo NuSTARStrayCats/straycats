{
 "cells": [
  {
   "cell_type": "code",
   "execution_count": 20,
   "metadata": {},
   "outputs": [
    {
     "data": {
      "text/plain": [
       "Index(['Classification', 'SL Target', 'Target Type', 'SEQID', 'Module',\n",
       "       'Multi', 'Primary Target', 'TIME', 'END_TIME', 'Exposure', 'RA', 'DEC',\n",
       "       'Notes'],\n",
       "      dtype='object')"
      ]
     },
     "execution_count": 20,
     "metadata": {},
     "output_type": "execute_result"
    }
   ],
   "source": [
    "from astropy.table import Table\n",
    "sf = '../../catalog/fits/straycats.fits'\n",
    "straycat = Table.read(sf)\n",
    "for key in straycat.columns:\n",
    "    if straycat[key].dtype.str.startswith('|S'):\n",
    "        straycat[key] = straycat[key].astype('str') \n",
    "df = straycat.to_pandas()\n",
    "df.columns"
   ]
  },
  {
   "cell_type": "code",
   "execution_count": 21,
   "metadata": {},
   "outputs": [],
   "source": [
    "# Strip out unknowns:\n",
    "sl = df[df['Classification']=='SL'].copy().reset_index(drop=True)\n",
    "sl = sl.drop(['END_TIME', 'Multi', 'Module', 'Classification'], axis=1)\n",
    "\n",
    "# Get unique number of seqid rows:\n",
    "\n",
    "uniq_sl = sl.drop_duplicates(subset=['SEQID'])"
   ]
  },
  {
   "cell_type": "code",
   "execution_count": 22,
   "metadata": {},
   "outputs": [
    {
     "name": "stderr",
     "output_type": "stream",
     "text": [
      "/Users/bwgref/miniconda3/envs/nustar/lib/python3.7/site-packages/ipykernel_launcher.py:6: SettingWithCopyWarning: \n",
      "A value is trying to be set on a copy of a slice from a DataFrame.\n",
      "Try using .loc[row_indexer,col_indexer] = value instead\n",
      "\n",
      "See the caveats in the documentation: https://pandas.pydata.org/pandas-docs/stable/user_guide/indexing.html#returning-a-view-versus-a-copy\n",
      "  \n"
     ]
    }
   ],
   "source": [
    "seqid_base = 'https://github.com/bwgref/straycats/tree/master/web_resources/seqid'\n",
    "source_base = 'https://github.com/bwgref/straycats/tree/master/web_resources/source'\n",
    "\n",
    "\n",
    "\n",
    "uniq_sl['SEQID'] = [f'<a href=\"{seqid_base}/{seqid}\" >{seqid} </a>' for seqid in uniq_sl['SEQID']]\n",
    "\n",
    "#sl['SL Target'] = [f'<a href=\"./sources/{source}\" >{source} </a>' for source in sl['SL Target']]\n",
    "\n",
    "sl_html = uniq_sl.to_html(classes=[\"table-bordered\", \"table-striped\", \"table-hover\",],\n",
    "                     index=False, justify=\"initial\", escape=False)\n",
    "with open('straycats_table.html', 'w') as f:\n",
    "    for line in sl_html:\n",
    "        f.write(line)\n",
    "        \n",
    "sl_md = sl.to_markdown(index=False)\n",
    "with open('straycats_table.md', 'w') as f:\n",
    "    for line in sl_md:\n",
    "        f.write(line)"
   ]
  },
  {
   "cell_type": "code",
   "execution_count": null,
   "metadata": {},
   "outputs": [],
   "source": []
  }
 ],
 "metadata": {
  "kernelspec": {
   "display_name": "Python 3",
   "language": "python",
   "name": "python3"
  },
  "language_info": {
   "codemirror_mode": {
    "name": "ipython",
    "version": 3
   },
   "file_extension": ".py",
   "mimetype": "text/x-python",
   "name": "python",
   "nbconvert_exporter": "python",
   "pygments_lexer": "ipython3",
   "version": "3.7.4"
  }
 },
 "nbformat": 4,
 "nbformat_minor": 4
}
