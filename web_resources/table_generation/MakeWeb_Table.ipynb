{
 "cells": [
  {
   "cell_type": "code",
   "execution_count": 1,
   "metadata": {},
   "outputs": [
    {
     "data": {
      "text/plain": [
       "Index(['Classification', 'SL Target', 'Target Type', 'SEQID', 'Module',\n",
       "       'Primary Target', 'Exposure (s)', 'RA', 'DEC', 'Notes', 'TIME',\n",
       "       'END_TIME'],\n",
       "      dtype='object')"
      ]
     },
     "execution_count": 1,
     "metadata": {},
     "output_type": "execute_result"
    }
   ],
   "source": [
    "from astropy.table import Table\n",
    "sf = '../../catalog/fits/straycats.fits'\n",
    "straycat = Table.read(sf)\n",
    "for key in straycat.columns:\n",
    "    if straycat[key].dtype.str.startswith('|S'):\n",
    "        straycat[key] = straycat[key].astype('str') \n",
    "df = straycat.to_pandas()\n",
    "df.columns"
   ]
  },
  {
   "cell_type": "code",
   "execution_count": 5,
   "metadata": {},
   "outputs": [],
   "source": [
    "# Strip out unknowns:\n",
    "sl = df[df['Classification']=='SL'].copy().reset_index(drop=True)\n",
    "sl = sl.drop(['TIME', 'END_TIME', 'Classification', 'Module'], axis=1)\n",
    "\n",
    "seqid_base = 'https://github.com/bwgref/straycats/tree/master/web_resources/seqid'\n",
    "source_base = 'https://github.com/bwgref/straycats/tree/master/web_resources/source'\n",
    "\n",
    "\n",
    "\n",
    "sl['SEQID'] = [f'<a href=\"{seqid_base}/{seqid}\" >{seqid} </a>' for seqid in sl['SEQID']]\n",
    "\n",
    "#sl['SL Target'] = [f'<a href=\"./sources/{source}\" >{source} </a>' for source in sl['SL Target']]\n",
    "\n",
    "sl_html = sl.to_html(classes=[\"table-bordered\", \"table-striped\", \"table-hover\",],\n",
    "                     index=False, justify=\"initial\", escape=False)\n",
    "with open('straycats_table.html', 'w') as f:\n",
    "    for line in sl_html:\n",
    "        f.write(line)\n",
    "        \n",
    "sl_md = sl.to_markdown(index=False)\n",
    "with open('straycats_table.md', 'w') as f:\n",
    "    for line in sl_md:\n",
    "        f.write(line)"
   ]
  }
 ],
 "metadata": {
  "kernelspec": {
   "display_name": "Python 3",
   "language": "python",
   "name": "python3"
  },
  "language_info": {
   "codemirror_mode": {
    "name": "ipython",
    "version": 3
   },
   "file_extension": ".py",
   "mimetype": "text/x-python",
   "name": "python",
   "nbconvert_exporter": "python",
   "pygments_lexer": "ipython3",
   "version": "3.7.4"
  }
 },
 "nbformat": 4,
 "nbformat_minor": 4
}
