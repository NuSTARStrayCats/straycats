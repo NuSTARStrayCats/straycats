{
 "cells": [
  {
   "cell_type": "code",
   "execution_count": 1,
   "metadata": {},
   "outputs": [
    {
     "data": {
      "text/plain": [
       "Index(['STRAYID', 'Classification', 'SEQID', 'Module', 'Exposure', 'Multi',\n",
       "       'Primary', 'TIME', 'END_TIME', 'RA_PRIMARY', 'DEC_PRIMARY', 'SL Source',\n",
       "       'SL Type', 'SIMBAD_ID', 'RA_SL', 'DEC_SL'],\n",
       "      dtype='object')"
      ]
     },
     "execution_count": 1,
     "metadata": {},
     "output_type": "execute_result"
    }
   ],
   "source": [
    "from astropy.table import Table\n",
    "sf = '../../catalog/fits/straycats.fits'\n",
    "straycat = Table.read(sf)\n",
    "for key in straycat.columns:\n",
    "    if straycat[key].dtype.str.startswith('|S'):\n",
    "        straycat[key] = straycat[key].astype('str') \n",
    "df = straycat.to_pandas()\n",
    "df.columns"
   ]
  },
  {
   "cell_type": "code",
   "execution_count": 2,
   "metadata": {},
   "outputs": [],
   "source": [
    "# Strip out unknowns:\n",
    "sl = df[df['Classification']=='Complex'].copy().reset_index(drop=True)\n",
    "sl = sl.drop(['END_TIME', 'Multi', 'Module', 'Classification'], axis=1)\n",
    "\n",
    "# Get unique number of seqid rows:\n",
    "\n",
    "#uniq_sl = sl.drop_duplicates(subset=['SEQID'])\n",
    "uniq_sl = sl.copy()"
   ]
  },
  {
   "cell_type": "code",
   "execution_count": 3,
   "metadata": {},
   "outputs": [],
   "source": [
    "seqid_base = 'https://github.com/bwgref/straycats/tree/master/web_resources/seqid'\n",
    "source_base = 'https://github.com/bwgref/straycats/tree/master/web_resources/source'\n",
    "\n",
    "\n",
    "\n",
    "uniq_sl['SEQID'] = [f'<a href=\"{seqid_base}/{seqid}\" >{seqid} </a>' for seqid in uniq_sl['SEQID']]\n",
    "\n",
    "#sl['SL Target'] = [f'<a href=\"./sources/{source}\" >{source} </a>' for source in sl['SL Target']]\n",
    "\n",
    "sl_html = uniq_sl.to_html(classes=[\"table-bordered\", \"table-striped\", \"table-hover\",],\n",
    "                     index=False, justify=\"initial\", escape=False)\n",
    "with open('straycats_table_complex.html', 'w') as f:\n",
    "    for line in sl_html:\n",
    "        f.write(line)\n",
    "        \n",
    "# sl_md = sl.to_markdown(index=False)\n",
    "# with open('straycats_table.md', 'w') as f:\n",
    "#     for line in sl_md:\n",
    "#         f.write(line)"
   ]
  },
  {
   "cell_type": "code",
   "execution_count": 4,
   "metadata": {},
   "outputs": [
    {
     "data": {
      "text/plain": [
       "array(['SL', 'Complex', 'Faint', 'GR', 'Unkn'], dtype=object)"
      ]
     },
     "execution_count": 4,
     "metadata": {},
     "output_type": "execute_result"
    }
   ],
   "source": [
    "df['Classification'].unique()"
   ]
  },
  {
   "cell_type": "code",
   "execution_count": null,
   "metadata": {},
   "outputs": [],
   "source": []
  }
 ],
 "metadata": {
  "kernelspec": {
   "display_name": "Python 3",
   "language": "python",
   "name": "python3"
  },
  "language_info": {
   "codemirror_mode": {
    "name": "ipython",
    "version": 3
   },
   "file_extension": ".py",
   "mimetype": "text/x-python",
   "name": "python",
   "nbconvert_exporter": "python",
   "pygments_lexer": "ipython3",
   "version": "3.7.4"
  }
 },
 "nbformat": 4,
 "nbformat_minor": 4
}
